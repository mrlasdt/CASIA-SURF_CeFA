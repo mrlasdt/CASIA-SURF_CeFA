{
 "cells": [
  {
   "cell_type": "code",
   "execution_count": 145,
   "metadata": {},
   "outputs": [],
   "source": [
    "import pylab\n",
    "import imageio\n",
    "import pandas as pd\n",
    "from pathlib import Path\n",
    "import numpy as np\n",
    "from collections import defaultdict\n",
    "VID_DATA_DIR = '/mnt/ssd500/hungbnt/liveness_detection/zalo/train/videos'\n",
    "IMG_DATA_DIR = '/mnt/ssd500/hungbnt/liveness_detection/zalo/train/images'\n",
    "DF_LABEL_PATH = '/mnt/ssd500/hungbnt/liveness_detection/zalo/train/label.csv'\n",
    "DF_SAVE_PATH = 'train.csv'\n",
    "NFRAMES_EXTRACTED = 5 #per video\n",
    "IMG_EXT = \".jpg\" #to save"
   ]
  },
  {
   "cell_type": "code",
   "execution_count": 146,
   "metadata": {},
   "outputs": [
    {
     "data": {
      "text/plain": [
       "(1168,\n",
       " PosixPath('/mnt/ssd500/hungbnt/liveness_detection/zalo/train/videos/76.mp4'))"
      ]
     },
     "execution_count": 146,
     "metadata": {},
     "output_type": "execute_result"
    }
   ],
   "source": [
    "pvid_data_dir = Path(VID_DATA_DIR)\n",
    "pvid_paths = pvid_data_dir.glob('*.mp4')\n",
    "lvid_paths = list(pvid_paths)\n",
    "len(lvid_paths), lvid_paths[0]"
   ]
  },
  {
   "cell_type": "code",
   "execution_count": 147,
   "metadata": {},
   "outputs": [],
   "source": [
    "# print(dir(limg_paths[0]))\n",
    "# pvid_data_dir.joinpath('test.mp4')\n",
    "pimg_data_dir = Path(IMG_DATA_DIR)"
   ]
  },
  {
   "cell_type": "code",
   "execution_count": 148,
   "metadata": {},
   "outputs": [
    {
     "data": {
      "text/plain": [
       "(1168,        liveness_score\n",
       " fname                \n",
       " 1.mp4               0\n",
       " 2.mp4               1\n",
       " 3.mp4               1\n",
       " 5.mp4               0\n",
       " 7.mp4               1)"
      ]
     },
     "execution_count": 148,
     "metadata": {},
     "output_type": "execute_result"
    }
   ],
   "source": [
    "df_label = pd.read_csv(DF_LABEL_PATH, index_col=0)\n",
    "len(df_label), df_label.head()"
   ]
  },
  {
   "cell_type": "code",
   "execution_count": 149,
   "metadata": {},
   "outputs": [
    {
     "name": "stdout",
     "output_type": "stream",
     "text": [
      "001.jpg\n"
     ]
    }
   ],
   "source": [
    "def gen_img_name_by_frame_index(i_frame:int, n_zeros=3):\n",
    "    return str(10**n_zeros + i_frame)[1:] + IMG_EXT# 1 -> 1001 -> 001\n",
    "    \n",
    "print(gen_img_name_by_frame_index(1))\n",
    "    "
   ]
  },
  {
   "cell_type": "code",
   "execution_count": 150,
   "metadata": {},
   "outputs": [],
   "source": [
    "ddata = defaultdict(list)\n",
    "for i in range(1,3): \n",
    "    filename = lvid_paths[i]\n",
    "    img_dir = pimg_data_dir.joinpath(filename.stem)\n",
    "    img_dir.mkdir(parents=True, exist_ok=True) #new folder to store img\n",
    "    vid = imageio.get_reader(filename,  'ffmpeg')\n",
    "    nframes = vid.count_frames()\n",
    "    j_frames = np.linspace(0,nframes-1,NFRAMES_EXTRACTED, dtype=int)\n",
    "    for j in j_frames:\n",
    "        img_path = img_dir.joinpath(gen_img_name_by_frame_index(j))\n",
    "        # imageio.imsave(img_path,vid.get_data(j))\n",
    "        ddata['rgb_path'].append(str(img_path))\n",
    "        ddata['video_id'].append(filename.stem)\n",
    "        ddata['label'].append(df_label.loc[lvid_paths[i].name][0])\n"
   ]
  },
  {
   "cell_type": "code",
   "execution_count": 151,
   "metadata": {},
   "outputs": [
    {
     "data": {
      "text/html": [
       "<div>\n",
       "<style scoped>\n",
       "    .dataframe tbody tr th:only-of-type {\n",
       "        vertical-align: middle;\n",
       "    }\n",
       "\n",
       "    .dataframe tbody tr th {\n",
       "        vertical-align: top;\n",
       "    }\n",
       "\n",
       "    .dataframe thead th {\n",
       "        text-align: right;\n",
       "    }\n",
       "</style>\n",
       "<table border=\"1\" class=\"dataframe\">\n",
       "  <thead>\n",
       "    <tr style=\"text-align: right;\">\n",
       "      <th></th>\n",
       "      <th>rgb_path</th>\n",
       "      <th>video_id</th>\n",
       "      <th>label</th>\n",
       "    </tr>\n",
       "  </thead>\n",
       "  <tbody>\n",
       "    <tr>\n",
       "      <th>0</th>\n",
       "      <td>/mnt/ssd500/hungbnt/liveness_detection/zalo/tr...</td>\n",
       "      <td>526</td>\n",
       "      <td>0</td>\n",
       "    </tr>\n",
       "    <tr>\n",
       "      <th>1</th>\n",
       "      <td>/mnt/ssd500/hungbnt/liveness_detection/zalo/tr...</td>\n",
       "      <td>526</td>\n",
       "      <td>0</td>\n",
       "    </tr>\n",
       "    <tr>\n",
       "      <th>2</th>\n",
       "      <td>/mnt/ssd500/hungbnt/liveness_detection/zalo/tr...</td>\n",
       "      <td>526</td>\n",
       "      <td>0</td>\n",
       "    </tr>\n",
       "    <tr>\n",
       "      <th>3</th>\n",
       "      <td>/mnt/ssd500/hungbnt/liveness_detection/zalo/tr...</td>\n",
       "      <td>526</td>\n",
       "      <td>0</td>\n",
       "    </tr>\n",
       "    <tr>\n",
       "      <th>4</th>\n",
       "      <td>/mnt/ssd500/hungbnt/liveness_detection/zalo/tr...</td>\n",
       "      <td>526</td>\n",
       "      <td>0</td>\n",
       "    </tr>\n",
       "    <tr>\n",
       "      <th>5</th>\n",
       "      <td>/mnt/ssd500/hungbnt/liveness_detection/zalo/tr...</td>\n",
       "      <td>988</td>\n",
       "      <td>1</td>\n",
       "    </tr>\n",
       "    <tr>\n",
       "      <th>6</th>\n",
       "      <td>/mnt/ssd500/hungbnt/liveness_detection/zalo/tr...</td>\n",
       "      <td>988</td>\n",
       "      <td>1</td>\n",
       "    </tr>\n",
       "    <tr>\n",
       "      <th>7</th>\n",
       "      <td>/mnt/ssd500/hungbnt/liveness_detection/zalo/tr...</td>\n",
       "      <td>988</td>\n",
       "      <td>1</td>\n",
       "    </tr>\n",
       "    <tr>\n",
       "      <th>8</th>\n",
       "      <td>/mnt/ssd500/hungbnt/liveness_detection/zalo/tr...</td>\n",
       "      <td>988</td>\n",
       "      <td>1</td>\n",
       "    </tr>\n",
       "    <tr>\n",
       "      <th>9</th>\n",
       "      <td>/mnt/ssd500/hungbnt/liveness_detection/zalo/tr...</td>\n",
       "      <td>988</td>\n",
       "      <td>1</td>\n",
       "    </tr>\n",
       "  </tbody>\n",
       "</table>\n",
       "</div>"
      ],
      "text/plain": [
       "                                            rgb_path video_id  label\n",
       "0  /mnt/ssd500/hungbnt/liveness_detection/zalo/tr...      526      0\n",
       "1  /mnt/ssd500/hungbnt/liveness_detection/zalo/tr...      526      0\n",
       "2  /mnt/ssd500/hungbnt/liveness_detection/zalo/tr...      526      0\n",
       "3  /mnt/ssd500/hungbnt/liveness_detection/zalo/tr...      526      0\n",
       "4  /mnt/ssd500/hungbnt/liveness_detection/zalo/tr...      526      0\n",
       "5  /mnt/ssd500/hungbnt/liveness_detection/zalo/tr...      988      1\n",
       "6  /mnt/ssd500/hungbnt/liveness_detection/zalo/tr...      988      1\n",
       "7  /mnt/ssd500/hungbnt/liveness_detection/zalo/tr...      988      1\n",
       "8  /mnt/ssd500/hungbnt/liveness_detection/zalo/tr...      988      1\n",
       "9  /mnt/ssd500/hungbnt/liveness_detection/zalo/tr...      988      1"
      ]
     },
     "execution_count": 151,
     "metadata": {},
     "output_type": "execute_result"
    }
   ],
   "source": [
    "df_train = pd.DataFrame.from_dict(ddata)\n",
    "df_train"
   ]
  },
  {
   "cell_type": "code",
   "execution_count": 153,
   "metadata": {},
   "outputs": [],
   "source": [
    "df_train.to_csv('train_zalo.csv', index=False)"
   ]
  },
  {
   "cell_type": "code",
   "execution_count": null,
   "metadata": {},
   "outputs": [],
   "source": []
  }
 ],
 "metadata": {
  "kernelspec": {
   "display_name": "Python 3.8.13 ('hungbnt_at_learner_core')",
   "language": "python",
   "name": "python3"
  },
  "language_info": {
   "codemirror_mode": {
    "name": "ipython",
    "version": 3
   },
   "file_extension": ".py",
   "mimetype": "text/x-python",
   "name": "python",
   "nbconvert_exporter": "python",
   "pygments_lexer": "ipython3",
   "version": "3.8.13"
  },
  "orig_nbformat": 4,
  "vscode": {
   "interpreter": {
    "hash": "8433f86c1c641dba3c2da8b23b7d7df11883bb618616ff8c9c023ca6f89270fc"
   }
  }
 },
 "nbformat": 4,
 "nbformat_minor": 2
}
